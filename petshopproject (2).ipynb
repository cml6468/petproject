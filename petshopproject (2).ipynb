{
  "nbformat": 4,
  "nbformat_minor": 0,
  "metadata": {
    "colab": {
      "name": "petshopproject.ipynb",
      "provenance": [],
      "collapsed_sections": []
    },
    "kernelspec": {
      "name": "python3",
      "display_name": "Python 3"
    }
  },
  "cells": [
    {
      "cell_type": "markdown",
      "metadata": {
        "id": "9SpOsre0l0ar",
        "colab_type": "text"
      },
      "source": [
        "![alt text](https://raw.githubusercontent.com/colentz10/petproject/master/PetShop.png)\n",
        "\n",
        "The way I went about setting up my ER diagram is by having six seperate tables each with their own unique identity. The primary keys I decided to use were \"Pet Purchase\", \"Pet Food\", \"Food Transaction\", \"Pet Enclosure\", \"Pets\", and \"Loyalty Program\". I strategically configured this set up because I felt this was the most effective way to cover all the major components, within their respective tables. Specifically, the \"Pet Purchase\" table attributes consist of total number of adoptions, the pet type or breed, and the loyalty program. This covers the different aspects reagrding the topic, pet purchases. Another primary key is \"Pet Food\", and all of its corresponding counterparts. Each attribute covers the varying characteristics that have to do with the subject; the volume size, brand name, and which type of animal the food is for. Another major key is \"Food Transaction\". This specifically covers all that have to do with the purchase of the pet food. Its attributes are the cost, the amount of purchases for each type of food, as well as the loyalty program for customers. Furthermore, \"Pet Enclosure\" is of the aspects regarding the kenneling/housing of the pets at the store. It includes the organization and labeling of their enclosures and their cage number, as well as how many total there are, and what type of animal belongs in each one. Another aspect is the loyalty program that has to do with the customers of this particular pet store. The program was devised to help benefit loyal customers and help provide discounts on pet and food purchases. Within this table, it also shows the items/objects within the store that are applicable to receiving the discount. The loyalty program is also a \"foreign key\" because it appears in two other tables attributes. These six physical keys help evenly distribute areas in the store that are of most significance, as well as helps create more stability. Overall, if the manager of this store were to use this database, it could potentially help improve product sales as well as increase orginazation of the business in the store.\n",
        "\n"
      ]
    }
  ]
}